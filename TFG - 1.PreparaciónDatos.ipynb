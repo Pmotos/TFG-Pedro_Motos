{
 "cells": [
  {
   "cell_type": "markdown",
   "metadata": {},
   "source": [
    "### TFG-Aplicación de ténicas de Deep Learning para la predicción de demanda en medios de transporte\n",
    "\n",
    "*Autor: Pedro Jesús Motos Nicolás* \n",
    "\n",
    "*Tutor: Fernando Terroso Sáenz*\n",
    "\n"
   ]
  },
  {
   "cell_type": "markdown",
   "metadata": {},
   "source": [
    "  "
   ]
  },
  {
   "cell_type": "markdown",
   "metadata": {},
   "source": [
    "  "
   ]
  },
  {
   "cell_type": "markdown",
   "metadata": {},
   "source": [
    " *-Preparación de librerías y constantes que vamos a utilizar más adelante*"
   ]
  },
  {
   "cell_type": "code",
   "execution_count": 1,
   "metadata": {},
   "outputs": [],
   "source": [
    "#LIBRERIAS UTILIZADAS\n",
    "import numpy as np\n",
    "import pandas as pd\n",
    "import csv\n",
    "from IPython.display import display, HTML"
   ]
  },
  {
   "cell_type": "code",
   "execution_count": 2,
   "metadata": {},
   "outputs": [],
   "source": [
    "#CONSTANTES BICICLETAS\n",
    "DOC_1_BICI='Archivos/NY_clean_city_bike_2019-01.csv'\n",
    "DOC_2_BICI='Archivos/NY_clean_city_bike_2019-02.csv'\n",
    "DOC_3_BICI='Archivos/NY_clean_city_bike_2019-03.csv'\n",
    "DOC_4_BICI='Archivos/NY_clean_city_bike_2019-04.csv'\n",
    "DOC_5_BICI='Archivos/NY_clean_city_bike_2019-05.csv'\n",
    "DOC_6_BICI='Archivos/NY_clean_city_bike_2019-06.csv'\n",
    "\n",
    "COLUMN_BICI='starttime'\n",
    "\n",
    "#CONSTANTES TAXIS\n",
    "DOC_1_TAXI='Archivos/yellow_clean_tripdata_2019-01.csv'\n",
    "DOC_2_TAXI='Archivos/yellow_clean_tripdata_2019-02.csv'\n",
    "DOC_3_TAXI='Archivos/yellow_clean_tripdata_2019-03.csv'\n",
    "DOC_4_TAXI='Archivos/yellow_clean_tripdata_2019-04.csv'\n",
    "DOC_5_TAXI='Archivos/yellow_clean_tripdata_2019-05.csv'\n",
    "DOC_6_TAXI='Archivos/yellow_clean_tripdata_2019-06.csv'\n",
    "\n",
    "COLUMN_TAXI='pickup_datetime'\n"
   ]
  },
  {
   "cell_type": "code",
   "execution_count": 3,
   "metadata": {},
   "outputs": [],
   "source": [
    "##Introducir en la memoria los registros que estamos teniendo \n",
    "yelp = pd.read_csv(DOC_1_TAXI)\n",
    "yelp1 = pd.read_csv(DOC_2_TAXI)\n",
    "yelp2 = pd.read_csv(DOC_3_TAXI)\n",
    "yelp3 = pd.read_csv(DOC_4_TAXI)\n",
    "yelp4 = pd.read_csv(DOC_5_TAXI)\n",
    "yelp5 = pd.read_csv(DOC_6_TAXI)"
   ]
  },
  {
   "cell_type": "code",
   "execution_count": 4,
   "metadata": {},
   "outputs": [],
   "source": [
    "yelp_b = pd.read_csv(DOC_1_BICI)\n",
    "yelp1_b = pd.read_csv(DOC_2_BICI)\n",
    "yelp2_b = pd.read_csv(DOC_3_BICI)\n",
    "yelp3_b = pd.read_csv(DOC_4_BICI)\n",
    "yelp4_b = pd.read_csv(DOC_5_BICI)\n",
    "yelp5_b = pd.read_csv(DOC_6_BICI)"
   ]
  },
  {
   "cell_type": "code",
   "execution_count": 5,
   "metadata": {},
   "outputs": [
    {
     "name": "stdout",
     "output_type": "stream",
     "text": [
      "Media de Taxis --> 7303374.833333333 registros. \n",
      "Media de Bicis --> 1465401.0 registros.\n"
     ]
    }
   ],
   "source": [
    "##Media de registros que estamos utilizando\n",
    "MediaTaxi=(len(yelp)+len(yelp1)+len(yelp2)+len(yelp3)+len(yelp4)+len(yelp5))/6\n",
    "MediaBici=(len(yelp_b)+len(yelp1_b)+len(yelp2_b)+len(yelp3_b)+len(yelp4_b)+len(yelp5_b))/6\n",
    "\n",
    "print(\"Media de Taxis -->\",MediaTaxi,\"registros.\" ,\"\\nMedia de Bicis -->\",MediaBici,\"registros.\" )"
   ]
  },
  {
   "cell_type": "markdown",
   "metadata": {},
   "source": [
    "### Función para la lectura de datos\n",
    "\n"
   ]
  },
  {
   "cell_type": "markdown",
   "metadata": {},
   "source": [
    "*Esta función recibe el fichero .csv, con los diferentes registros de viajes realizados por los usuarios, y también, la  columna de la fecha en la que se realizó el viajes, que es con la que vamos a trabajar.*\n",
    "\n",
    "*Transforma estos datos en un DataFrame con las columnas, \"ANIO, MES, DIA, HORA, MIN, SEG, Fecha\"*"
   ]
  },
  {
   "cell_type": "code",
   "execution_count": 6,
   "metadata": {},
   "outputs": [],
   "source": [
    "def RecopilacionDatos2(Archivo, x):\n",
    "\n",
    "    total= []\n",
    "    for gm_chunk in pd.read_csv(Archivo,chunksize=400000):\n",
    "        for c in gm_chunk[x]:\n",
    "\n",
    "            d0 = c.split()\n",
    "            result = d0\n",
    "\n",
    "            #print(d0)     #formato salida del result = (['2019-01-01', '00:46:40'])\n",
    "            d1 = result[0].split('-')\n",
    "            d2 = result[1].split(':')\n",
    "            #print(d2)\n",
    "            result = d1+d2\n",
    "            #print(result[1])\n",
    "\n",
    "            total.append(result) #lo introducimos dentro de nuestro array\n",
    "            #print(total)\n",
    "\n",
    "    ecom = pd.DataFrame(total,columns = [\"ANIO\",\"MES\",\"DIA\",\"HORA\",\"MIN\",\"SEG\"])   #index --> para nombrar a las filas\n",
    "    ecom['concatenated'] = ecom['MES'] +'-'+ ecom['DIA'] +'#'+ ecom['HORA']\n",
    "    ecom.columns = ['ANIO','MES','DIA','HORA','MIN','SEG','Fecha']\n",
    "    ecom\n",
    "        \n",
    "    return(ecom)"
   ]
  },
  {
   "cell_type": "markdown",
   "metadata": {},
   "source": [
    " "
   ]
  },
  {
   "cell_type": "markdown",
   "metadata": {},
   "source": [
    " "
   ]
  },
  {
   "cell_type": "markdown",
   "metadata": {},
   "source": [
    "### Función para la transformación de datos\n"
   ]
  },
  {
   "cell_type": "markdown",
   "metadata": {},
   "source": [
    "*Esta función recibe como entrada el dataframe creado en la función anterior con la fecha de la realización del viaje segmentada en columnas*\n",
    "\n",
    "*Elimina las columnas innecesarias y transforma aquellos datos que nos hacen falta. Además también realiza la suma de los viajes \n",
    "que se han realizado un determinado dia y a una hora concreta*"
   ]
  },
  {
   "cell_type": "code",
   "execution_count": 7,
   "metadata": {},
   "outputs": [],
   "source": [
    "def TratamientoDatos(dataF):\n",
    "    \n",
    "    a = dataF['Fecha'].value_counts().sort_index()\n",
    "    a = pd.DataFrame(a)\n",
    "    a = a.reset_index()\n",
    "    a.columns = ['Fecha','Numero de viajes']\n",
    "    a\n",
    "    \n",
    "    subtotal=[]\n",
    "\n",
    "    for indice_fila, fila in a.iterrows():\n",
    "        f=fila[0], fila[1]\n",
    "        s=f[0].split('#')\n",
    "        s.append(f[1])\n",
    "\n",
    "        subtotal.append(s)\n",
    "\n",
    "    result = pd.DataFrame(subtotal)\n",
    "    result.columns = ['Fecha','Hora','Numero de viajes']\n",
    "    \n",
    "    return(result)"
   ]
  },
  {
   "cell_type": "markdown",
   "metadata": {},
   "source": [
    " "
   ]
  },
  {
   "cell_type": "markdown",
   "metadata": {},
   "source": [
    " "
   ]
  },
  {
   "cell_type": "markdown",
   "metadata": {},
   "source": [
    "### Introducción y tratamiento de datos\n",
    "\n",
    "\n",
    "*Una vez que se han explicado las funciones pasamos a su utilización. Estas se utilizarán para los primeros seis meses del año 2019*\n",
    "\n"
   ]
  },
  {
   "cell_type": "markdown",
   "metadata": {},
   "source": [
    "#### Viajes en Taxi\n"
   ]
  },
  {
   "cell_type": "code",
   "execution_count": 8,
   "metadata": {},
   "outputs": [],
   "source": [
    "##Datos de Enero\n",
    "Enero = RecopilacionDatos2(DOC_1_TAXI,COLUMN_TAXI)\n",
    "Enero = Enero.drop(Enero[Enero['MES']!='01'].index)\n",
    "Enero = TratamientoDatos(Enero)\n",
    "#Enero"
   ]
  },
  {
   "cell_type": "code",
   "execution_count": 9,
   "metadata": {},
   "outputs": [],
   "source": [
    "##Datos de Febrero\n",
    "Febrero = RecopilacionDatos2(DOC_2_TAXI,COLUMN_TAXI)\n",
    "Febrero = Febrero.drop(Febrero[Febrero['MES']!='02'].index)\n",
    "Febrero = TratamientoDatos(Febrero)\n",
    "#Febrero"
   ]
  },
  {
   "cell_type": "code",
   "execution_count": 10,
   "metadata": {},
   "outputs": [],
   "source": [
    "##Datos de Marzo\n",
    "Marzo = RecopilacionDatos2(DOC_3_TAXI,COLUMN_TAXI)\n",
    "Marzo = Marzo.drop(Marzo[Marzo['MES']!='03'].index)\n",
    "Marzo = TratamientoDatos(Marzo)\n",
    "#Marzo"
   ]
  },
  {
   "cell_type": "code",
   "execution_count": 11,
   "metadata": {},
   "outputs": [],
   "source": [
    "##Datos de Abril\n",
    "Abril = RecopilacionDatos2(DOC_4_TAXI,COLUMN_TAXI)\n",
    "Abril = Abril.drop(Abril[Abril['MES']!='04'].index)\n",
    "Abril = TratamientoDatos(Abril)\n",
    "#Abril"
   ]
  },
  {
   "cell_type": "code",
   "execution_count": 12,
   "metadata": {},
   "outputs": [],
   "source": [
    "##Datos de Mayo\n",
    "Mayo = RecopilacionDatos2(DOC_5_TAXI,COLUMN_TAXI)\n",
    "Mayo = Mayo.drop(Mayo[Mayo['MES']!='05'].index)\n",
    "Mayo = TratamientoDatos(Mayo)\n",
    "#Mayo"
   ]
  },
  {
   "cell_type": "code",
   "execution_count": 13,
   "metadata": {},
   "outputs": [],
   "source": [
    "##Datos de Junio\n",
    "Junio = RecopilacionDatos2(DOC_6_TAXI,COLUMN_TAXI)\n",
    "Junio = Junio.drop(Junio[Junio['MES']!='06'].index)\n",
    "Junio = TratamientoDatos(Junio)\n",
    "#Junio"
   ]
  },
  {
   "cell_type": "markdown",
   "metadata": {},
   "source": [
    " "
   ]
  },
  {
   "cell_type": "markdown",
   "metadata": {},
   "source": [
    "*Concatenamiento de todos los meses en una tabla única (viajes en taxi)*"
   ]
  },
  {
   "cell_type": "code",
   "execution_count": 14,
   "metadata": {},
   "outputs": [],
   "source": [
    "Total_column_TAXI = pd.concat([Enero, Febrero, Marzo, Abril, Mayo, Junio]).reset_index()   \n",
    "Total_column_TAXI = Total_column_TAXI.drop(['index'], axis=1)\n",
    "#Total_column_TAXI"
   ]
  },
  {
   "cell_type": "code",
   "execution_count": null,
   "metadata": {},
   "outputs": [],
   "source": []
  },
  {
   "cell_type": "code",
   "execution_count": 15,
   "metadata": {},
   "outputs": [],
   "source": [
    "#Comprobación de que los meses se han introducido correctamente\n",
    "#display(HTML(Total_column_TAXI.to_html()))"
   ]
  },
  {
   "cell_type": "markdown",
   "metadata": {},
   "source": [
    " "
   ]
  },
  {
   "cell_type": "markdown",
   "metadata": {},
   "source": [
    "#### Viajes en Bicicleta"
   ]
  },
  {
   "cell_type": "code",
   "execution_count": 16,
   "metadata": {},
   "outputs": [],
   "source": [
    "#Datos de Enero\n",
    "Enero = RecopilacionDatos2(DOC_1_BICI,COLUMN_BICI)\n",
    "Enero = Enero.drop(Enero[Enero['MES']!='01'].index)\n",
    "Enero = TratamientoDatos(Enero)\n",
    "#Enero"
   ]
  },
  {
   "cell_type": "code",
   "execution_count": 17,
   "metadata": {},
   "outputs": [],
   "source": [
    "#Datos de Febrero\n",
    "Febrero = RecopilacionDatos2(DOC_2_BICI,COLUMN_BICI)\n",
    "Febrero = Febrero.drop(Febrero[Febrero['MES']!='02'].index)\n",
    "Febrero = TratamientoDatos(Febrero)\n",
    "#Febrero"
   ]
  },
  {
   "cell_type": "code",
   "execution_count": 18,
   "metadata": {},
   "outputs": [],
   "source": [
    "#Datos de Marzo\n",
    "Marzo = RecopilacionDatos2(DOC_3_BICI,COLUMN_BICI)\n",
    "Marzo = Marzo.drop(Marzo[Marzo['MES']!='03'].index)\n",
    "Marzo = TratamientoDatos(Marzo)\n",
    "#Marzo"
   ]
  },
  {
   "cell_type": "code",
   "execution_count": 19,
   "metadata": {},
   "outputs": [],
   "source": [
    "#Datos de Abril\n",
    "Abril = RecopilacionDatos2(DOC_4_BICI,COLUMN_BICI)\n",
    "Abril = Abril.drop(Abril[Abril['MES']!='04'].index)\n",
    "Abril = TratamientoDatos(Abril)\n",
    "#Abril"
   ]
  },
  {
   "cell_type": "code",
   "execution_count": 20,
   "metadata": {},
   "outputs": [],
   "source": [
    "#Datos de Mayo\n",
    "Mayo = RecopilacionDatos2(DOC_5_BICI,COLUMN_BICI)\n",
    "Mayo = Mayo.drop(Mayo[Mayo['MES']!='05'].index)\n",
    "Mayo = TratamientoDatos(Mayo)\n",
    "#Mayo"
   ]
  },
  {
   "cell_type": "code",
   "execution_count": 21,
   "metadata": {},
   "outputs": [],
   "source": [
    "#Datos de Junio\n",
    "Junio = RecopilacionDatos2(DOC_6_BICI,COLUMN_BICI)\n",
    "Junio = Junio.drop(Junio[Junio['MES']!='06'].index)\n",
    "Junio = TratamientoDatos(Junio)\n",
    "#Junio"
   ]
  },
  {
   "cell_type": "markdown",
   "metadata": {},
   "source": [
    "*Concatenamiento de todos los meses en una tabla única (Viajes en  bicicleta)*"
   ]
  },
  {
   "cell_type": "code",
   "execution_count": 22,
   "metadata": {},
   "outputs": [],
   "source": [
    "Total_column_BICI = pd.concat([Enero, Febrero, Marzo, Abril, Mayo, Junio]).reset_index()  \n",
    "Total_column_BICI = Total_column_BICI.drop(['index'], axis=1)\n",
    "#Total_column_BICI"
   ]
  },
  {
   "cell_type": "code",
   "execution_count": 23,
   "metadata": {},
   "outputs": [],
   "source": [
    "#Comprobación de que los meses se han introducido correctamente\n",
    "#display(HTML(Total_column_BICI.to_html()))"
   ]
  },
  {
   "cell_type": "markdown",
   "metadata": {},
   "source": [
    " "
   ]
  },
  {
   "cell_type": "markdown",
   "metadata": {},
   "source": [
    " "
   ]
  },
  {
   "cell_type": "markdown",
   "metadata": {},
   "source": [
    "### Funciones para la unión de taxis y bicis\n",
    "\n"
   ]
  },
  {
   "cell_type": "markdown",
   "metadata": {},
   "source": [
    "*Una vez que tenemos ambos tipos de datos en tablas diferentes tenemos que unificarlos en una sola tabla, para asi poder trabajar con ellos.*\n",
    "\n"
   ]
  },
  {
   "cell_type": "markdown",
   "metadata": {},
   "source": [
    " *- En esta función se crea una columna que nos hara falta eliminan aquellas columnas que no nos hacen falta en este momento*"
   ]
  },
  {
   "cell_type": "code",
   "execution_count": 24,
   "metadata": {},
   "outputs": [],
   "source": [
    "def fusion1(dataF):\n",
    "    \n",
    "    dataF['key_column'] = dataF['Fecha']+'#'+dataF['Hora']      #Hago una nueva columna con la fecha y hora concatenada para que sea la columna llave\n",
    "    dataF=dataF.drop(['Fecha','Hora'], axis=1)                  #Eliminamos columnas que no nos sirven    \n",
    "    \n",
    "    return(dataF)"
   ]
  },
  {
   "cell_type": "markdown",
   "metadata": {},
   "source": [
    " "
   ]
  },
  {
   "cell_type": "markdown",
   "metadata": {},
   "source": [
    " *- Función que realiza la unión de las dos tabla. Como resultado obtendremos las tablas de los viajes realizados en bicicleta y en taxique unificadas.* \n",
    " \n",
    " *Además, se comprueba que ambas tablas tengan el mismo número de viajes y las mismas horas de trabajo, tanto en los taxis como en las bicicletas. Esto es muy importante, para que no haya perdida de horarios, (y por lo tanto, de datos) en el caso de que un transporte no haya trabajado algún día u hora especifica (por el motivo que sea).*\n"
   ]
  },
  {
   "cell_type": "code",
   "execution_count": 25,
   "metadata": {},
   "outputs": [],
   "source": [
    "def fusion2(dataF1,dataF2):\n",
    "    '''\n",
    "    -Comprobación de que tenemos las mismas horas y dias en ambos df\n",
    "    -Unión del numero de viajes de taxi y bici a cada hora#fecha correspondiente\n",
    "    '''\n",
    "    x1=fusion1(dataF1)\n",
    "    x1_bis=x1.drop('Numero de viajes', axis=1)\n",
    "    \n",
    "    x2=fusion1(dataF2)\n",
    "    x2_bis=x2.drop('Numero de viajes', axis=1)\n",
    "    \n",
    "    Total_key_column = pd.concat([x1_bis, x2_bis]).drop_duplicates().sort_values('key_column')\n",
    "    Total_key_column =Total_key_column.reset_index()\n",
    "    Total_key_column =Total_key_column[['key_column']]\n",
    "    \n",
    "    \n",
    "    join_x1=Total_key_column.join(x1.set_index('key_column'), on='key_column')\n",
    "    join_x1.rename(columns={'Numero de viajes': 'Viajes taxi'},inplace=True)    ##Cambiamos el nombre de la columna para que no colapse al unirlas\n",
    "    join_x2=Total_key_column.join(x2.set_index('key_column'), on='key_column')\n",
    "    join_x2.rename(columns={'Numero de viajes': 'Viajes bici'},inplace=True)\n",
    "    result_total = join_x1.join(join_x2.set_index('key_column'), on='key_column').fillna(0)   \n",
    "    \n",
    "    return(result_total)\n",
    "        "
   ]
  },
  {
   "cell_type": "markdown",
   "metadata": {},
   "source": [
    " "
   ]
  },
  {
   "cell_type": "markdown",
   "metadata": {},
   "source": [
    "#### Unificación de tablas"
   ]
  },
  {
   "cell_type": "code",
   "execution_count": 26,
   "metadata": {},
   "outputs": [
    {
     "data": {
      "text/html": [
       "<div>\n",
       "<style scoped>\n",
       "    .dataframe tbody tr th:only-of-type {\n",
       "        vertical-align: middle;\n",
       "    }\n",
       "\n",
       "    .dataframe tbody tr th {\n",
       "        vertical-align: top;\n",
       "    }\n",
       "\n",
       "    .dataframe thead th {\n",
       "        text-align: right;\n",
       "    }\n",
       "</style>\n",
       "<table border=\"1\" class=\"dataframe\">\n",
       "  <thead>\n",
       "    <tr style=\"text-align: right;\">\n",
       "      <th></th>\n",
       "      <th>key_column</th>\n",
       "      <th>Viajes taxi</th>\n",
       "      <th>Viajes bici</th>\n",
       "    </tr>\n",
       "  </thead>\n",
       "  <tbody>\n",
       "    <tr>\n",
       "      <td>0</td>\n",
       "      <td>01-01#00</td>\n",
       "      <td>13256</td>\n",
       "      <td>129</td>\n",
       "    </tr>\n",
       "    <tr>\n",
       "      <td>1</td>\n",
       "      <td>01-01#01</td>\n",
       "      <td>15205</td>\n",
       "      <td>260</td>\n",
       "    </tr>\n",
       "    <tr>\n",
       "      <td>2</td>\n",
       "      <td>01-01#02</td>\n",
       "      <td>12984</td>\n",
       "      <td>273</td>\n",
       "    </tr>\n",
       "    <tr>\n",
       "      <td>3</td>\n",
       "      <td>01-01#03</td>\n",
       "      <td>10221</td>\n",
       "      <td>179</td>\n",
       "    </tr>\n",
       "    <tr>\n",
       "      <td>4</td>\n",
       "      <td>01-01#04</td>\n",
       "      <td>6670</td>\n",
       "      <td>117</td>\n",
       "    </tr>\n",
       "    <tr>\n",
       "      <td>...</td>\n",
       "      <td>...</td>\n",
       "      <td>...</td>\n",
       "      <td>...</td>\n",
       "    </tr>\n",
       "    <tr>\n",
       "      <td>4338</td>\n",
       "      <td>06-30#19</td>\n",
       "      <td>7960</td>\n",
       "      <td>4122</td>\n",
       "    </tr>\n",
       "    <tr>\n",
       "      <td>4339</td>\n",
       "      <td>06-30#20</td>\n",
       "      <td>7565</td>\n",
       "      <td>3385</td>\n",
       "    </tr>\n",
       "    <tr>\n",
       "      <td>4340</td>\n",
       "      <td>06-30#21</td>\n",
       "      <td>7856</td>\n",
       "      <td>2548</td>\n",
       "    </tr>\n",
       "    <tr>\n",
       "      <td>4341</td>\n",
       "      <td>06-30#22</td>\n",
       "      <td>7428</td>\n",
       "      <td>1798</td>\n",
       "    </tr>\n",
       "    <tr>\n",
       "      <td>4342</td>\n",
       "      <td>06-30#23</td>\n",
       "      <td>6329</td>\n",
       "      <td>1153</td>\n",
       "    </tr>\n",
       "  </tbody>\n",
       "</table>\n",
       "<p>4343 rows × 3 columns</p>\n",
       "</div>"
      ],
      "text/plain": [
       "     key_column  Viajes taxi  Viajes bici\n",
       "0      01-01#00        13256          129\n",
       "1      01-01#01        15205          260\n",
       "2      01-01#02        12984          273\n",
       "3      01-01#03        10221          179\n",
       "4      01-01#04         6670          117\n",
       "...         ...          ...          ...\n",
       "4338   06-30#19         7960         4122\n",
       "4339   06-30#20         7565         3385\n",
       "4340   06-30#21         7856         2548\n",
       "4341   06-30#22         7428         1798\n",
       "4342   06-30#23         6329         1153\n",
       "\n",
       "[4343 rows x 3 columns]"
      ]
     },
     "execution_count": 26,
     "metadata": {},
     "output_type": "execute_result"
    }
   ],
   "source": [
    "TABLA_UNION=fusion2(Total_column_TAXI,Total_column_BICI)\n",
    "TABLA_UNION"
   ]
  },
  {
   "cell_type": "markdown",
   "metadata": {},
   "source": [
    " "
   ]
  },
  {
   "cell_type": "markdown",
   "metadata": {},
   "source": [
    "### Preparación de los datos para la red neuronal\n",
    "\n",
    "\n",
    "*Una vez que tenemos las dos tablas unidas podemos preparar los datos para que sean introducidos en nuestra red neuronal, esto es lo que hemos realizado en la siguiente función*\n",
    "\n",
    "*-Esta función recibe como entrada un Dataframe. Devuelve otro datraframe, pero con los datos en el formato adecuado para su introducción en la red neuronal, de la siguiente forma: \"Hora, Viajes en taxi, Viajes_en_bici\"*\n"
   ]
  },
  {
   "cell_type": "code",
   "execution_count": 27,
   "metadata": {},
   "outputs": [],
   "source": [
    "def PreparacionDatosRNA(dataF):\n",
    "    '''\n",
    "    -Eliminación de la columna clave\n",
    "    -Introduccion de Hora y Fecha\n",
    "    '''\n",
    "    a=dataF\n",
    "    subtotal=[]\n",
    "\n",
    "    for indice_fila, fila in a.iterrows():\n",
    "        f=fila[0], fila[1], fila[2]\n",
    "        s=f[0].split('#')\n",
    "        s.append(f[1])    #Aniadimos columna de viajes de taxi\n",
    "        s.append(f[2])    #Aniadimos columna de viajes de bici\n",
    "\n",
    "        subtotal.append(s)\n",
    "\n",
    "    result = pd.DataFrame(subtotal)\n",
    "    result.columns = ['Fecha','Hora','Viajes_en_taxi','viajes_en_bici']\n",
    "    \n",
    "    return(result)"
   ]
  },
  {
   "cell_type": "markdown",
   "metadata": {},
   "source": [
    "  "
   ]
  },
  {
   "cell_type": "markdown",
   "metadata": {},
   "source": [
    "#### Preparación de los datos\n",
    "*Una vez que se han explicado las funciones pasamos a su utilización.*"
   ]
  },
  {
   "cell_type": "code",
   "execution_count": 28,
   "metadata": {},
   "outputs": [
    {
     "data": {
      "text/html": [
       "<div>\n",
       "<style scoped>\n",
       "    .dataframe tbody tr th:only-of-type {\n",
       "        vertical-align: middle;\n",
       "    }\n",
       "\n",
       "    .dataframe tbody tr th {\n",
       "        vertical-align: top;\n",
       "    }\n",
       "\n",
       "    .dataframe thead th {\n",
       "        text-align: right;\n",
       "    }\n",
       "</style>\n",
       "<table border=\"1\" class=\"dataframe\">\n",
       "  <thead>\n",
       "    <tr style=\"text-align: right;\">\n",
       "      <th></th>\n",
       "      <th>Hora</th>\n",
       "      <th>Viajes_en_taxi</th>\n",
       "      <th>viajes_en_bici</th>\n",
       "    </tr>\n",
       "  </thead>\n",
       "  <tbody>\n",
       "    <tr>\n",
       "      <td>0</td>\n",
       "      <td>00</td>\n",
       "      <td>13256</td>\n",
       "      <td>129</td>\n",
       "    </tr>\n",
       "    <tr>\n",
       "      <td>1</td>\n",
       "      <td>01</td>\n",
       "      <td>15205</td>\n",
       "      <td>260</td>\n",
       "    </tr>\n",
       "    <tr>\n",
       "      <td>2</td>\n",
       "      <td>02</td>\n",
       "      <td>12984</td>\n",
       "      <td>273</td>\n",
       "    </tr>\n",
       "    <tr>\n",
       "      <td>3</td>\n",
       "      <td>03</td>\n",
       "      <td>10221</td>\n",
       "      <td>179</td>\n",
       "    </tr>\n",
       "    <tr>\n",
       "      <td>4</td>\n",
       "      <td>04</td>\n",
       "      <td>6670</td>\n",
       "      <td>117</td>\n",
       "    </tr>\n",
       "    <tr>\n",
       "      <td>...</td>\n",
       "      <td>...</td>\n",
       "      <td>...</td>\n",
       "      <td>...</td>\n",
       "    </tr>\n",
       "    <tr>\n",
       "      <td>4338</td>\n",
       "      <td>19</td>\n",
       "      <td>7960</td>\n",
       "      <td>4122</td>\n",
       "    </tr>\n",
       "    <tr>\n",
       "      <td>4339</td>\n",
       "      <td>20</td>\n",
       "      <td>7565</td>\n",
       "      <td>3385</td>\n",
       "    </tr>\n",
       "    <tr>\n",
       "      <td>4340</td>\n",
       "      <td>21</td>\n",
       "      <td>7856</td>\n",
       "      <td>2548</td>\n",
       "    </tr>\n",
       "    <tr>\n",
       "      <td>4341</td>\n",
       "      <td>22</td>\n",
       "      <td>7428</td>\n",
       "      <td>1798</td>\n",
       "    </tr>\n",
       "    <tr>\n",
       "      <td>4342</td>\n",
       "      <td>23</td>\n",
       "      <td>6329</td>\n",
       "      <td>1153</td>\n",
       "    </tr>\n",
       "  </tbody>\n",
       "</table>\n",
       "<p>4343 rows × 3 columns</p>\n",
       "</div>"
      ],
      "text/plain": [
       "     Hora  Viajes_en_taxi  viajes_en_bici\n",
       "0      00           13256             129\n",
       "1      01           15205             260\n",
       "2      02           12984             273\n",
       "3      03           10221             179\n",
       "4      04            6670             117\n",
       "...   ...             ...             ...\n",
       "4338   19            7960            4122\n",
       "4339   20            7565            3385\n",
       "4340   21            7856            2548\n",
       "4341   22            7428            1798\n",
       "4342   23            6329            1153\n",
       "\n",
       "[4343 rows x 3 columns]"
      ]
     },
     "execution_count": 28,
     "metadata": {},
     "output_type": "execute_result"
    }
   ],
   "source": [
    "DatosLSTM=PreparacionDatosRNA(TABLA_UNION)\n",
    "DatosLSTM=DatosLSTM.drop(['Fecha'], axis=1)\n",
    "DatosLSTM"
   ]
  },
  {
   "cell_type": "markdown",
   "metadata": {},
   "source": [
    "#### Introducción de los datos en un archivo .csv para la RNA"
   ]
  },
  {
   "cell_type": "code",
   "execution_count": 29,
   "metadata": {},
   "outputs": [],
   "source": [
    "DatosLSTM.to_csv('Datos_LSTM.csv', index=None)"
   ]
  },
  {
   "cell_type": "markdown",
   "metadata": {},
   "source": [
    " "
   ]
  },
  {
   "cell_type": "markdown",
   "metadata": {},
   "source": [
    " "
   ]
  },
  {
   "cell_type": "markdown",
   "metadata": {},
   "source": [
    " "
   ]
  },
  {
   "cell_type": "markdown",
   "metadata": {},
   "source": [
    " "
   ]
  }
 ],
 "metadata": {
  "kernelspec": {
   "display_name": "Python 3",
   "language": "python",
   "name": "python3"
  },
  "language_info": {
   "codemirror_mode": {
    "name": "ipython",
    "version": 3
   },
   "file_extension": ".py",
   "mimetype": "text/x-python",
   "name": "python",
   "nbconvert_exporter": "python",
   "pygments_lexer": "ipython3",
   "version": "3.7.4"
  }
 },
 "nbformat": 4,
 "nbformat_minor": 2
}
